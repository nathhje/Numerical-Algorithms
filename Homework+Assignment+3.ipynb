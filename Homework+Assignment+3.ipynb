{
 "cells": [
  {
   "cell_type": "markdown",
   "metadata": {},
   "source": [
    "Please **submit this Jupyter notebook through Canvas** no later than **Monday November 19, 12:59**, before the start of the lecture.\n",
    "\n",
    "Homework is in **groups of two**, and you are expected to hand in original work. Work that is copied from another group will not be accepted."
   ]
  },
  {
   "cell_type": "markdown",
   "metadata": {},
   "source": [
    "# Exercise 0\n",
    "Write down the names + student ID of the people in your group."
   ]
  },
  {
   "cell_type": "markdown",
   "metadata": {},
   "source": [
    "Nathalie van Sterkenburg (11037466) <br>\n",
    "Romy Meester (11140046)"
   ]
  },
  {
   "cell_type": "markdown",
   "metadata": {},
   "source": [
    "-----\n",
    "# Exercise 1"
   ]
  },
  {
   "cell_type": "markdown",
   "metadata": {},
   "source": [
    "# (a)\n",
    "We have the table of data in the next cell.\n",
    "\n",
    "Using `numpy.linalg.lstsq()`, fit a straight line, a quadratic function, and a cubic function to these data. Plot the data and your fitted functions in a graph."
   ]
  },
  {
   "cell_type": "code",
   "execution_count": 19,
   "metadata": {},
   "outputs": [],
   "source": [
    "import numpy as np\n",
    "t = np.array([3, 11, 29, 32, 47, 63, 73, 99], dtype=np.float)\n",
    "w = np.array([74, 72, 52, 35, 37, 20, 19, 19], dtype=np.float)"
   ]
  },
  {
   "cell_type": "code",
   "execution_count": 21,
   "metadata": {},
   "outputs": [
    {
     "name": "stdout",
     "output_type": "stream",
     "text": [
      "[ 3. 11. 29. 32. 47. 63. 73. 99.]\n",
      "[[ 3.  1.]\n",
      " [11.  1.]\n",
      " [29.  1.]\n",
      " [32.  1.]\n",
      " [47.  1.]\n",
      " [63.  1.]\n",
      " [73.  1.]\n",
      " [99.  1.]]\n",
      "[[9.000e+00 3.000e+00 1.000e+00]\n",
      " [1.210e+02 1.100e+01 1.000e+00]\n",
      " [8.410e+02 2.900e+01 1.000e+00]\n",
      " [1.024e+03 3.200e+01 1.000e+00]\n",
      " [2.209e+03 4.700e+01 1.000e+00]\n",
      " [3.969e+03 6.300e+01 1.000e+00]\n",
      " [5.329e+03 7.300e+01 1.000e+00]\n",
      " [9.801e+03 9.900e+01 1.000e+00]]\n",
      "[[2.70000e+01 9.00000e+00 3.00000e+00 1.00000e+00]\n",
      " [1.33100e+03 1.21000e+02 1.10000e+01 1.00000e+00]\n",
      " [2.43890e+04 8.41000e+02 2.90000e+01 1.00000e+00]\n",
      " [3.27680e+04 1.02400e+03 3.20000e+01 1.00000e+00]\n",
      " [1.03823e+05 2.20900e+03 4.70000e+01 1.00000e+00]\n",
      " [2.50047e+05 3.96900e+03 6.30000e+01 1.00000e+00]\n",
      " [3.89017e+05 5.32900e+03 7.30000e+01 1.00000e+00]\n",
      " [9.70299e+05 9.80100e+03 9.90000e+01 1.00000e+00]]\n",
      "[array([67.6964646 , 62.56561255, 51.02119542, 49.0971259 , 39.4767783 ,\n",
      "       29.21507418, 22.80150911,  6.12623993])]\n",
      "[array([77.67114475, 67.0003628 , 46.79181436, 43.93535712, 31.8457888 ,\n",
      "       22.97835319, 19.54771203, 18.22946695])]\n",
      "[array([76.58941627, 67.05108414, 46.41571865, 43.16264689, 28.09400414,\n",
      "       14.91128941,  8.62475898,  1.30685997])]\n",
      "[67.6964646  62.56561255 51.02119542 49.0971259  39.4767783  29.21507418\n",
      " 22.80150911  6.12623993]\n"
     ]
    },
    {
     "data": {
      "image/png": "[encoded data removed]",
      "text/plain": [
       "<matplotlib.figure.Figure at 0x278e7eccac8>"
      ]
     },
     "metadata": {},
     "output_type": "display_data"
    }
   ],
   "source": [
    "import matplotlib.pyplot as plt\n",
    "% matplotlib inline\n",
    "\n",
    "#Fitted functions\n",
    "def f_straight_line(x,a,b): \n",
    "    return a*x + b\n",
    "\n",
    "def f_quadratic(x,a,b,c):\n",
    "    return a*x**2 + b*x + c\n",
    "\n",
    "def f_cubic(x,a,b,c,d):\n",
    "    return a*x**3 + b*x*2 + c*x + d\n",
    "\n",
    "def functions(x,y):\n",
    "    Slist = [] #Straight line\n",
    "    Qlist = [] #Quadratic\n",
    "    Clist = [] #Cubic\n",
    "    M = np.vstack([t, np.ones(len(t))]).T\n",
    "\n",
    "    a, b = np.linalg.lstsq(M, y, rcond=None)[0]\n",
    "    c = y - (a*x**2 + b*x)\n",
    "    d = y - (a*x**3 + b*x*2 + c*x)\n",
    "\n",
    "\n",
    "    s = f_straight_line(x,a,b)\n",
    "    q = f_quadratic(x,a,b,c)\n",
    "    c = f_cubic(x,a,b,c,d)\n",
    "\n",
    "    Slist.append(s)    \n",
    "    Qlist.append(q)\n",
    "    Clist.append(c)\n",
    "#     Slist.reshape((8,0))#Slist.tolist()\n",
    "    return Slist, Qlist, Clist\n",
    "\n",
    "def functions2(x,y):\n",
    "    print(x)\n",
    "    Slist = [] #Straight line\n",
    "    Qlist = [] #Quadratic\n",
    "    Clist = [] #Cubic\n",
    "    \n",
    "    M = np.vstack([t**1, t**0]).T\n",
    "    a, b = np.linalg.lstsq(M, y, rcond=None)[0]\n",
    "    \n",
    "    s = f_straight_line(x,a,b)\n",
    "    \n",
    "    M = np.vstack([t**2, t**1, t**0]).T\n",
    "    a, b, c = np.linalg.lstsq(M, y, rcond=None)[0]\n",
    "    \n",
    "    q = f_quadratic(x,a,b,c)\n",
    "    \n",
    "    M = np.vstack([t**3, t**2, t**1, t**0]).T\n",
    "    a, b, c, d = np.linalg.lstsq(M, y, rcond=None)[0]\n",
    "    \n",
    "    c = f_cubic(x,a,b,c,d)\n",
    "\n",
    "    Slist.append(s)    \n",
    "    Qlist.append(q)\n",
    "    Clist.append(c)\n",
    "#     Slist.reshape((8,0))#Slist.tolist()\n",
    "    return Slist, Qlist, Clist\n",
    "\n",
    "\n",
    "straight_line, quadratic, cubic = functions2(t,w) \n",
    "print(straight_line[0])\n",
    "print(quadratic[0])\n",
    "print(cubic[0])\n",
    "\n",
    "#Plot the data and fitted functions\n",
    "plt.figure()\n",
    "plt.plot(t, w, 'o', label='Original data')\n",
    "plt.plot(t, straight_line[0], 'r', label='Fitted straight line')\n",
    "plt.plot(t, quadratic[0], 'g', label='Fitted quadratic')\n",
    "plt.plot(t, cubic[0], color='orange', label='Fitted cubic')\n",
    "\n",
    "plt.title('The data and the fitted functions')\n",
    "plt.xlabel('t')\n",
    "plt.ylabel('w')\n",
    "plt.legend(loc='best')\n",
    "plt.show()"
   ]
  },
  {
   "cell_type": "markdown",
   "metadata": {},
   "source": [
    "## (b)\n",
    "Compute the condition number of the associated Vandermonde matrix in each case."
   ]
  },
  {
   "cell_type": "code",
   "execution_count": 22,
   "metadata": {},
   "outputs": [
    {
     "ename": "LinAlgError",
     "evalue": "1-dimensional array given. Array must be at least two-dimensional",
     "output_type": "error",
     "traceback": [
      "\u001b[1;31m---------------------------------------------------------------------------\u001b[0m",
      "\u001b[1;31mLinAlgError\u001b[0m                               Traceback (most recent call last)",
      "\u001b[1;32m<ipython-input-22-9796c0e0ae20>\u001b[0m in \u001b[0;36m<module>\u001b[1;34m()\u001b[0m\n\u001b[0;32m     14\u001b[0m     \u001b[1;32mreturn\u001b[0m \u001b[0mcn\u001b[0m\u001b[1;33m\u001b[0m\u001b[0m\n\u001b[0;32m     15\u001b[0m \u001b[1;33m\u001b[0m\u001b[0m\n\u001b[1;32m---> 16\u001b[1;33m \u001b[0mcn_t\u001b[0m \u001b[1;33m=\u001b[0m \u001b[0mmatrix\u001b[0m\u001b[1;33m(\u001b[0m\u001b[0mt\u001b[0m\u001b[1;33m)\u001b[0m\u001b[1;33m\u001b[0m\u001b[0m\n\u001b[0m\u001b[0;32m     17\u001b[0m \u001b[0mcn_w\u001b[0m \u001b[1;33m=\u001b[0m \u001b[0mmatrix\u001b[0m\u001b[1;33m(\u001b[0m\u001b[0mw\u001b[0m\u001b[1;33m)\u001b[0m\u001b[1;33m\u001b[0m\u001b[0m\n\u001b[0;32m     18\u001b[0m \u001b[1;33m\u001b[0m\u001b[0m\n",
      "\u001b[1;32m<ipython-input-22-9796c0e0ae20>\u001b[0m in \u001b[0;36mmatrix\u001b[1;34m(x)\u001b[0m\n\u001b[0;32m     11\u001b[0m \u001b[1;32mdef\u001b[0m \u001b[0mmatrix\u001b[0m\u001b[1;33m(\u001b[0m\u001b[0mx\u001b[0m\u001b[1;33m)\u001b[0m\u001b[1;33m:\u001b[0m\u001b[1;33m\u001b[0m\u001b[0m\n\u001b[0;32m     12\u001b[0m     \u001b[0mA\u001b[0m \u001b[1;33m=\u001b[0m \u001b[0mnp\u001b[0m\u001b[1;33m.\u001b[0m\u001b[0mvander\u001b[0m\u001b[1;33m(\u001b[0m\u001b[0mx\u001b[0m\u001b[1;33m)\u001b[0m\u001b[1;33m\u001b[0m\u001b[0m\n\u001b[1;32m---> 13\u001b[1;33m     \u001b[0mcn\u001b[0m \u001b[1;33m=\u001b[0m \u001b[0mcondition_number\u001b[0m\u001b[1;33m(\u001b[0m\u001b[0mA\u001b[0m\u001b[1;33m)\u001b[0m\u001b[1;33m\u001b[0m\u001b[0m\n\u001b[0m\u001b[0;32m     14\u001b[0m     \u001b[1;32mreturn\u001b[0m \u001b[0mcn\u001b[0m\u001b[1;33m\u001b[0m\u001b[0m\n\u001b[0;32m     15\u001b[0m \u001b[1;33m\u001b[0m\u001b[0m\n",
      "\u001b[1;32m<ipython-input-22-9796c0e0ae20>\u001b[0m in \u001b[0;36mcondition_number\u001b[1;34m(M)\u001b[0m\n\u001b[0;32m      5\u001b[0m     \u001b[0mCNlist\u001b[0m \u001b[1;33m=\u001b[0m \u001b[1;33m[\u001b[0m\u001b[1;33m]\u001b[0m\u001b[1;33m\u001b[0m\u001b[0m\n\u001b[0;32m      6\u001b[0m     \u001b[1;32mfor\u001b[0m \u001b[0mm\u001b[0m \u001b[1;32min\u001b[0m \u001b[0mM\u001b[0m\u001b[1;33m:\u001b[0m\u001b[1;33m\u001b[0m\u001b[0m\n\u001b[1;32m----> 7\u001b[1;33m         \u001b[0mcn\u001b[0m \u001b[1;33m=\u001b[0m \u001b[0mlinalg\u001b[0m\u001b[1;33m.\u001b[0m\u001b[0mcond\u001b[0m\u001b[1;33m(\u001b[0m\u001b[0mm\u001b[0m\u001b[1;33m)\u001b[0m\u001b[1;33m\u001b[0m\u001b[0m\n\u001b[0m\u001b[0;32m      8\u001b[0m         \u001b[0mCNlist\u001b[0m\u001b[1;33m.\u001b[0m\u001b[0mappend\u001b[0m\u001b[1;33m(\u001b[0m\u001b[0mcn\u001b[0m\u001b[1;33m)\u001b[0m\u001b[1;33m\u001b[0m\u001b[0m\n\u001b[0;32m      9\u001b[0m     \u001b[1;32mreturn\u001b[0m \u001b[0mCNlist\u001b[0m\u001b[1;33m\u001b[0m\u001b[0m\n",
      "\u001b[1;32m~\\Anaconda3\\lib\\site-packages\\numpy\\linalg\\linalg.py\u001b[0m in \u001b[0;36mcond\u001b[1;34m(x, p)\u001b[0m\n\u001b[0;32m   1540\u001b[0m     \u001b[0mx\u001b[0m \u001b[1;33m=\u001b[0m \u001b[0masarray\u001b[0m\u001b[1;33m(\u001b[0m\u001b[0mx\u001b[0m\u001b[1;33m)\u001b[0m  \u001b[1;31m# in case we have a matrix\u001b[0m\u001b[1;33m\u001b[0m\u001b[0m\n\u001b[0;32m   1541\u001b[0m     \u001b[1;32mif\u001b[0m \u001b[0mp\u001b[0m \u001b[1;32mis\u001b[0m \u001b[1;32mNone\u001b[0m\u001b[1;33m:\u001b[0m\u001b[1;33m\u001b[0m\u001b[0m\n\u001b[1;32m-> 1542\u001b[1;33m         \u001b[0ms\u001b[0m \u001b[1;33m=\u001b[0m \u001b[0msvd\u001b[0m\u001b[1;33m(\u001b[0m\u001b[0mx\u001b[0m\u001b[1;33m,\u001b[0m \u001b[0mcompute_uv\u001b[0m\u001b[1;33m=\u001b[0m\u001b[1;32mFalse\u001b[0m\u001b[1;33m)\u001b[0m\u001b[1;33m\u001b[0m\u001b[0m\n\u001b[0m\u001b[0;32m   1543\u001b[0m         \u001b[1;32mreturn\u001b[0m \u001b[0ms\u001b[0m\u001b[1;33m[\u001b[0m\u001b[1;33m...\u001b[0m\u001b[1;33m,\u001b[0m \u001b[1;36m0\u001b[0m\u001b[1;33m]\u001b[0m\u001b[1;33m/\u001b[0m\u001b[0ms\u001b[0m\u001b[1;33m[\u001b[0m\u001b[1;33m...\u001b[0m\u001b[1;33m,\u001b[0m \u001b[1;33m-\u001b[0m\u001b[1;36m1\u001b[0m\u001b[1;33m]\u001b[0m\u001b[1;33m\u001b[0m\u001b[0m\n\u001b[0;32m   1544\u001b[0m     \u001b[1;32melse\u001b[0m\u001b[1;33m:\u001b[0m\u001b[1;33m\u001b[0m\u001b[0m\n",
      "\u001b[1;32m~\\Anaconda3\\lib\\site-packages\\numpy\\linalg\\linalg.py\u001b[0m in \u001b[0;36msvd\u001b[1;34m(a, full_matrices, compute_uv)\u001b[0m\n\u001b[0;32m   1422\u001b[0m     \u001b[0ma\u001b[0m\u001b[1;33m,\u001b[0m \u001b[0mwrap\u001b[0m \u001b[1;33m=\u001b[0m \u001b[0m_makearray\u001b[0m\u001b[1;33m(\u001b[0m\u001b[0ma\u001b[0m\u001b[1;33m)\u001b[0m\u001b[1;33m\u001b[0m\u001b[0m\n\u001b[0;32m   1423\u001b[0m     \u001b[0m_assertNoEmpty2d\u001b[0m\u001b[1;33m(\u001b[0m\u001b[0ma\u001b[0m\u001b[1;33m)\u001b[0m\u001b[1;33m\u001b[0m\u001b[0m\n\u001b[1;32m-> 1424\u001b[1;33m     \u001b[0m_assertRankAtLeast2\u001b[0m\u001b[1;33m(\u001b[0m\u001b[0ma\u001b[0m\u001b[1;33m)\u001b[0m\u001b[1;33m\u001b[0m\u001b[0m\n\u001b[0m\u001b[0;32m   1425\u001b[0m     \u001b[0mt\u001b[0m\u001b[1;33m,\u001b[0m \u001b[0mresult_t\u001b[0m \u001b[1;33m=\u001b[0m \u001b[0m_commonType\u001b[0m\u001b[1;33m(\u001b[0m\u001b[0ma\u001b[0m\u001b[1;33m)\u001b[0m\u001b[1;33m\u001b[0m\u001b[0m\n\u001b[0;32m   1426\u001b[0m \u001b[1;33m\u001b[0m\u001b[0m\n",
      "\u001b[1;32m~\\Anaconda3\\lib\\site-packages\\numpy\\linalg\\linalg.py\u001b[0m in \u001b[0;36m_assertRankAtLeast2\u001b[1;34m(*arrays)\u001b[0m\n\u001b[0;32m    199\u001b[0m         \u001b[1;32mif\u001b[0m \u001b[0ma\u001b[0m\u001b[1;33m.\u001b[0m\u001b[0mndim\u001b[0m \u001b[1;33m<\u001b[0m \u001b[1;36m2\u001b[0m\u001b[1;33m:\u001b[0m\u001b[1;33m\u001b[0m\u001b[0m\n\u001b[0;32m    200\u001b[0m             raise LinAlgError('%d-dimensional array given. Array must be '\n\u001b[1;32m--> 201\u001b[1;33m                     'at least two-dimensional' % a.ndim)\n\u001b[0m\u001b[0;32m    202\u001b[0m \u001b[1;33m\u001b[0m\u001b[0m\n\u001b[0;32m    203\u001b[0m \u001b[1;32mdef\u001b[0m \u001b[0m_assertSquareness\u001b[0m\u001b[1;33m(\u001b[0m\u001b[1;33m*\u001b[0m\u001b[0marrays\u001b[0m\u001b[1;33m)\u001b[0m\u001b[1;33m:\u001b[0m\u001b[1;33m\u001b[0m\u001b[0m\n",
      "\u001b[1;31mLinAlgError\u001b[0m: 1-dimensional array given. Array must be at least two-dimensional"
     ]
    }
   ],
   "source": [
    "import numpy as np\n",
    "from numpy import linalg \n",
    "\n",
    "def condition_number(M):\n",
    "    CNlist = []\n",
    "    for m in M:\n",
    "        cn = linalg.cond(m)\n",
    "        CNlist.append(cn)\n",
    "    return CNlist\n",
    "\n",
    "def matrix(x): \n",
    "    A = np.vander(x)\n",
    "    cn = condition_number(A)\n",
    "    return cn    \n",
    "\n",
    "cn_t = matrix(t)\n",
    "cn_w = matrix(w)\n",
    "\n",
    "print('The condition number of the associated Vandermonde matrix of t is: %.2f' %(cn_t))\n",
    "print('The condition number of the associated Vandermonde matrix of w is: %.2f' %(cn_w))"
   ]
  },
  {
   "cell_type": "markdown",
   "metadata": {},
   "source": [
    "----\n",
    "# Exercise 2\n",
    "Planets follow an elliptical orbit, which can be represented in a Cartesian $(x,y)$-coordinate system by the equation\n",
    "$$ ay^2 + bxy + cx + dy + e = x^2. $$"
   ]
  },
  {
   "cell_type": "markdown",
   "metadata": {},
   "source": [
    "## (a)\n",
    "Use `numpy.linalg.lstsq()` to determine the orbital parameters $a,b,c,d,e$ for the table of observations given below.\n",
    "In addition, plot the resulting orbit and the data points in the $(x,y)$-plane."
   ]
  },
  {
   "cell_type": "code",
   "execution_count": 44,
   "metadata": {},
   "outputs": [],
   "source": [
    "x = np.array([1.02, 0.95, 0.87, 0.77, 0.67, 0.56, 0.44, 0.30, 0.16, 0.01], dtype=np.float)\n",
    "y = np.array([0.39, 0.32, 0.27, 0.22, 0.18, 0.15, 0.13, 0.12, 0.13, 0.15], dtype=np.float)"
   ]
  },
  {
   "cell_type": "code",
   "execution_count": 53,
   "metadata": {},
   "outputs": [
    {
     "name": "stdout",
     "output_type": "stream",
     "text": [
      "a=-2.64, b=0.14, c=0.55, d=3.22, e=-0.43\n"
     ]
    },
    {
     "name": "stderr",
     "output_type": "stream",
     "text": [
      "C:\\Users\\Gebruiker\\Anaconda3\\lib\\site-packages\\ipykernel_launcher.py:10: FutureWarning: `rcond` parameter will change to the default of machine precision times ``max(M, N)`` where M and N are the input matrix dimensions.\n",
      "To use the future default and silence this warning we advise to pass `rcond=None`, to keep using the old, explicitly pass `rcond=-1`.\n",
      "  # Remove the CWD from sys.path while we load stuff.\n"
     ]
    },
    {
     "data": {
      "image/png": "[encoded data removed]",
      "text/plain": [
       "<matplotlib.figure.Figure at 0x278e7faae48>"
      ]
     },
     "metadata": {},
     "output_type": "display_data"
    }
   ],
   "source": [
    "import numpy as np\n",
    "import matplotlib.pyplot as plt\n",
    "% matplotlib inline\n",
    "\n",
    "def f_cartesian(x,y,a,b,c,d,e):\n",
    "    return a*y**2 + b*x*y + c*x + d*y + e - x**2\n",
    "\n",
    "def function(x,y):\n",
    "    M = np.vstack([y**2, x*y, x, y, np.ones(len(x))]).T\n",
    "    return np.linalg.lstsq(M, x**2)[0]\n",
    "\n",
    "def determineOrbit(xlist,ylist):\n",
    "\n",
    "    a, b, c, d, e = function(xlist,ylist)\n",
    "    \n",
    "    print(\"a=%.2f, b=%.2f, c=%.2f, d=%.2f, e=%.2f\"%(a,b,c,d,e))\n",
    "\n",
    "    xvalues = []\n",
    "    yvalues = []\n",
    "\n",
    "    for xnow in np.arange(0,1.11,0.01):\n",
    "\n",
    "        xvalues.append(xnow)\n",
    "\n",
    "        coeff = np.roots([a, b*xnow + d, c*xnow + e - xnow**2])\n",
    "\n",
    "        yvalues.append(coeff[1])\n",
    "        \n",
    "    return xvalues, yvalues\n",
    "\n",
    "xvalues, yvalues = determineOrbit(x,y)\n",
    "        \n",
    "#Plot the data and resulting orbit\n",
    "plt.figure()\n",
    "plt.plot(x,y, 'o', label='Original data')\n",
    "plt.plot(xvalues, yvalues, 'r', label='Orbit')\n",
    "\n",
    "plt.title('The data and the resulting orbit')\n",
    "plt.xlabel('x')\n",
    "plt.ylabel('y')\n",
    "plt.legend(loc='best')\n",
    "plt.show()"
   ]
  },
  {
   "cell_type": "markdown",
   "metadata": {},
   "source": [
    "## (b)\n",
    "This least squares problem is nearly rank-deficient. To see what effect this has on the solution, perturb the input data slightly by adding random noise between -0.005 and 0.005 (using, for instance, `numpy.random.rand`), and solve the least squares problem with the perturbed data. Compare the new values for the parameters with those from (a). What effect does this difference have on the plot of the orbit?"
   ]
  },
  {
   "cell_type": "code",
   "execution_count": 56,
   "metadata": {},
   "outputs": [
    {
     "name": "stdout",
     "output_type": "stream",
     "text": [
      "[1.02 0.95 0.87 0.77 0.67 0.56 0.44 0.3  0.16 0.01]\n",
      "[1.02 0.95 0.87 0.77 0.67 0.56 0.44 0.3  0.16 0.01]\n",
      "[1.01892185 0.95224596 0.87289413 0.76846184 0.67416123 0.55825511\n",
      " 0.44027825 0.30013708 0.15635424 0.01141265]\n",
      "a=-2.99, b=0.52, c=0.49, d=3.02, e=-0.39\n"
     ]
    },
    {
     "name": "stderr",
     "output_type": "stream",
     "text": [
      "C:\\Users\\Gebruiker\\Anaconda3\\lib\\site-packages\\ipykernel_launcher.py:10: FutureWarning: `rcond` parameter will change to the default of machine precision times ``max(M, N)`` where M and N are the input matrix dimensions.\n",
      "To use the future default and silence this warning we advise to pass `rcond=None`, to keep using the old, explicitly pass `rcond=-1`.\n",
      "  # Remove the CWD from sys.path while we load stuff.\n"
     ]
    },
    {
     "data": {
      "image/png": "[encoded data removed]",
      "text/plain": [
       "<matplotlib.figure.Figure at 0x278e7f1fbe0>"
      ]
     },
     "metadata": {},
     "output_type": "display_data"
    }
   ],
   "source": [
    "import numpy as np\n",
    "import matplotlib.pyplot as plt\n",
    "import random\n",
    "% matplotlib inline\n",
    "\n",
    "xnew = np.array(x, dtype=np.float)\n",
    "ynew = np.array(y, dtype=np.float)\n",
    "\n",
    "#xnew = x\n",
    "#ynew = y\n",
    "print(xnew)\n",
    "print(x)\n",
    "\n",
    "for i in range(len(xnew)):\n",
    "    \n",
    "    xnew[i] += random.random() * 0.01 - 0.005\n",
    "    ynew[i] += random.random() * 0.01 - 0.005\n",
    "    \n",
    "    #xnew.append(x[i] + random.random() * 0.01 - 0.005)\n",
    "    #ynew.append(y[i] + random.random() * 0.01 - 0.005)\n",
    "print(xnew)\n",
    "xvalues, yvalues = determineOrbit(xnew,ynew)\n",
    "\n",
    "#Plot the data and resulting orbit\n",
    "plt.figure()\n",
    "plt.plot(xnew,ynew, 'o', label='Original data')\n",
    "plt.plot(xvalues, yvalues, 'r', label='Orbit')\n",
    "\n",
    "plt.title('The new data and the resulting orbit')\n",
    "plt.xlabel('x')\n",
    "plt.ylabel('y')\n",
    "plt.legend(loc='best')\n",
    "plt.show()"
   ]
  },
  {
   "cell_type": "markdown",
   "metadata": {},
   "source": [
    "## (c)\n",
    "Can you explain this behaviour?"
   ]
  },
  {
   "cell_type": "markdown",
   "metadata": {},
   "source": []
  },
  {
   "cell_type": "markdown",
   "metadata": {},
   "source": [
    "## (d)\n",
    "Solve the same least squares problem again, for both the original *and* the perturbed data, this time using a routine specifically designed to deal with rank deficiencies. An example is `numpy.linalg.lstsq`, with the argument `rcond` as tolerance. Experiment with various tolerances, say $10^-k$ for $k \\in \\{1, ..., 5\\}$. Compare the behaviour of the two solutions (one for the original input data, one for the perturbed data). How well do the resulting orbits fit the data points as the tolerance varies?"
   ]
  },
  {
   "cell_type": "code",
   "execution_count": null,
   "metadata": {
    "collapsed": true
   },
   "outputs": [],
   "source": []
  }
 ],
 "metadata": {
  "kernelspec": {
   "display_name": "Python 3",
   "language": "python",
   "name": "python3"
  },
  "language_info": {
   "codemirror_mode": {
    "name": "ipython",
    "version": 3
   },
   "file_extension": ".py",
   "mimetype": "text/x-python",
   "name": "python",
   "nbconvert_exporter": "python",
   "pygments_lexer": "ipython3",
   "version": "3.6.4"
  }
 },
 "nbformat": 4,
 "nbformat_minor": 2
}
